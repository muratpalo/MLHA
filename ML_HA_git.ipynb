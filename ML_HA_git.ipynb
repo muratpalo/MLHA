{
 "cells": [
  {
   "cell_type": "code",
   "execution_count": 1,
   "id": "e348aed2",
   "metadata": {},
   "outputs": [],
   "source": [
    "import csv\n",
    "\n",
    "import numpy as np\n",
    "import pandas as pd\n",
    "import matplotlib.pyplot as plt \n",
    "import seaborn as sns\n",
    "import random\n",
    "\n",
    "from sklearn import preprocessing\n",
    "#from sklearn.preprocessing import StandardScaler\n",
    "from sklearn.impute import SimpleImputer\n",
    "from sklearn.impute import KNNImputer\n",
    "\n",
    "#from sklearn.ensemble import RandomForestRegressor\n",
    "from sklearn.model_selection import train_test_split\n",
    "from sklearn.ensemble import RandomForestClassifier\n",
    "\n",
    "from sklearn.datasets import make_classification\n",
    "from sklearn.feature_selection import SelectKBest\n",
    "from sklearn.feature_selection import f_classif\n",
    "\n",
    "from sklearn.experimental import enable_iterative_imputer \n",
    "from sklearn.impute import IterativeImputer\n",
    "from sklearn.impute import KNNImputer\n",
    "from sklearn.inspection import permutation_importance\n",
    "\n",
    "from sklearn.linear_model import LogisticRegression\n",
    "from sklearn import linear_model\n",
    "from sklearn.ensemble import RandomForestClassifier\n",
    "from sklearn.ensemble import GradientBoostingClassifier\n",
    "from sklearn.neighbors import KNeighborsClassifier\n",
    "from sklearn.ensemble import BaggingClassifier\n",
    "from sklearn.experimental import enable_iterative_imputer\n",
    "\n",
    "from sklearn.metrics import accuracy_score\n",
    "from sklearn.metrics import confusion_matrix\n",
    "from sklearn.metrics import r2_score,mean_squared_error\n",
    "\n",
    "from sklearn.pipeline import make_pipeline\n",
    "from sklearn.decomposition import PCA\n",
    "import umap\n",
    "from sklearn.metrics import classification_report\n",
    "from sklearn.model_selection import cross_validate\n",
    "\n",
    "from sklearn.metrics import auc, roc_curve\n",
    "\n"
   ]
  },
  {
   "cell_type": "code",
   "execution_count": 2,
   "id": "cc087a71",
   "metadata": {},
   "outputs": [],
   "source": [
    "secom_df = np.loadtxt('./secom.data', dtype=str) \n",
    "secom_df = pd.DataFrame(preprocessing.scale(secom_df)) #scaling and Data Frame\n",
    "\n",
    "target = np.loadtxt('./secom_labels.data', dtype=str)\n",
    "\n",
    "target = pd.DataFrame(target) #Data Frame\n",
    "times = target[2].str.split(':', expand=True)[0]\n",
    "time_df = pd.DataFrame(times)\n",
    "target = target[0].astype(int)\n",
    "time_df['FPY']=target\n",
    "labels_df=target\n"
   ]
  },
  {
   "cell_type": "code",
   "execution_count": 3,
   "id": "3dd7684e",
   "metadata": {},
   "outputs": [
    {
     "name": "stdout",
     "output_type": "stream",
     "text": [
      "   Spalte: 0  Spalte: 1  Spalte: 2  Spalte: 3  Spalte: 4  Spalte: 5  \\\n",
      "0   0.223879   0.847825  -0.434320   0.033405  -0.050354        0.0   \n",
      "1   1.105015  -0.382054   1.012583   0.152382  -0.059776        0.0   \n",
      "2  -1.112023   0.797316  -0.479135   0.683141  -0.047691        0.0   \n",
      "3  -0.349640  -0.198431  -0.051316  -1.101992  -0.051060        0.0   \n",
      "4   0.241679   0.087330   1.112384  -0.158208  -0.047280        0.0   \n",
      "\n",
      "   Spalte: 6  Spalte: 7  Spalte: 8  Spalte: 9  ...  Spalte: 580  Spalte: 581  \\\n",
      "0  -0.561266   0.265504   0.509501   1.127696  ...          NaN          NaN   \n",
      "1   0.197330   0.321317   0.456708   0.022567  ...     0.194011     1.260949   \n",
      "2  -0.902153   0.254341  -0.260740   0.326974  ...     3.020445    -0.172375   \n",
      "3   0.500993  -0.013563   0.342999  -0.764920  ...    -0.319886    -0.275485   \n",
      "4  -0.114865   0.187365   0.544697  -0.149489  ...          NaN          NaN   \n",
      "\n",
      "   Spalte: 582  Spalte: 583  Spalte: 584  Spalte: 585  Spalte: 586  \\\n",
      "0     0.118661    -0.204825    -0.093178    -0.197050          NaN   \n",
      "1     0.530034     0.406549     0.444564     0.384936    -0.959868   \n",
      "2    -1.262377     0.022257     0.014371     0.029823     2.990196   \n",
      "3    -0.322096    -0.292164    -0.362049    -0.283326    -0.101862   \n",
      "4    -5.905014    26.858657    27.062785    26.904758    -0.101862   \n",
      "\n",
      "   Spalte: 587  Spalte: 588  Spalte: 589  \n",
      "0          NaN          NaN          NaN  \n",
      "1     0.411722     0.250045     1.156320  \n",
      "2     3.625906     3.320359    -0.179091  \n",
      "3    -0.178870    -0.308194    -0.275158  \n",
      "4    -0.178870    -0.308194    -0.275158  \n",
      "\n",
      "[5 rows x 590 columns]\n"
     ]
    }
   ],
   "source": [
    "def createList(n):\n",
    "    lst = []\n",
    "    for i in range(n+1):\n",
    "        lst.append('Spalte: ' + str(i) )\n",
    "    return(lst)\n",
    "Spaltennamen = createList(secom_df.shape[1]-1)\n",
    "secom_df.set_axis(Spaltennamen, axis=1,inplace=True)\n",
    "print(secom_df.head())"
   ]
  },
  {
   "cell_type": "markdown",
   "id": "26d06b98",
   "metadata": {},
   "source": [
    "How many observations and features are there?"
   ]
  },
  {
   "cell_type": "code",
   "execution_count": 4,
   "id": "f3d0eaed",
   "metadata": {},
   "outputs": [
    {
     "name": "stdout",
     "output_type": "stream",
     "text": [
      "features (1567, 590)\n",
      "time (1567,)\n",
      "labels (1567,)\n"
     ]
    },
    {
     "data": {
      "text/plain": [
       "-1    1463\n",
       " 1     104\n",
       "Name: 0, dtype: int64"
      ]
     },
     "execution_count": 4,
     "metadata": {},
     "output_type": "execute_result"
    }
   ],
   "source": [
    "print('features',secom_df.shape) #590 features, 1567 observations\n",
    "print('time',times.shape)\n",
    "print('labels',labels_df.shape)\n",
    "\n",
    "#sns.histplot(data = labels_df, color= 'grey')\n",
    "labels_df.value_counts()"
   ]
  },
  {
   "cell_type": "markdown",
   "id": "a006ef81",
   "metadata": {},
   "source": [
    "look at the data"
   ]
  },
  {
   "cell_type": "code",
   "execution_count": 5,
   "id": "3a0a2258",
   "metadata": {},
   "outputs": [
    {
     "name": "stdout",
     "output_type": "stream",
     "text": [
      "<class 'pandas.core.frame.DataFrame'>\n",
      "RangeIndex: 1567 entries, 0 to 1566\n",
      "Columns: 590 entries, Spalte: 0 to Spalte: 589\n",
      "dtypes: float64(590)\n",
      "memory usage: 7.1 MB\n",
      "None\n"
     ]
    }
   ],
   "source": [
    "print(secom_df.info())"
   ]
  },
  {
   "cell_type": "code",
   "execution_count": 6,
   "id": "8e169ab8",
   "metadata": {},
   "outputs": [
    {
     "data": {
      "text/html": [
       "<div>\n",
       "<style scoped>\n",
       "    .dataframe tbody tr th:only-of-type {\n",
       "        vertical-align: middle;\n",
       "    }\n",
       "\n",
       "    .dataframe tbody tr th {\n",
       "        vertical-align: top;\n",
       "    }\n",
       "\n",
       "    .dataframe thead th {\n",
       "        text-align: right;\n",
       "    }\n",
       "</style>\n",
       "<table border=\"1\" class=\"dataframe\">\n",
       "  <thead>\n",
       "    <tr style=\"text-align: right;\">\n",
       "      <th></th>\n",
       "      <th>Spalte: 0</th>\n",
       "      <th>Spalte: 1</th>\n",
       "      <th>Spalte: 2</th>\n",
       "      <th>Spalte: 3</th>\n",
       "      <th>Spalte: 4</th>\n",
       "      <th>Spalte: 5</th>\n",
       "      <th>Spalte: 6</th>\n",
       "      <th>Spalte: 7</th>\n",
       "      <th>Spalte: 8</th>\n",
       "      <th>Spalte: 9</th>\n",
       "      <th>...</th>\n",
       "      <th>Spalte: 580</th>\n",
       "      <th>Spalte: 581</th>\n",
       "      <th>Spalte: 582</th>\n",
       "      <th>Spalte: 583</th>\n",
       "      <th>Spalte: 584</th>\n",
       "      <th>Spalte: 585</th>\n",
       "      <th>Spalte: 586</th>\n",
       "      <th>Spalte: 587</th>\n",
       "      <th>Spalte: 588</th>\n",
       "      <th>Spalte: 589</th>\n",
       "    </tr>\n",
       "  </thead>\n",
       "  <tbody>\n",
       "    <tr>\n",
       "      <th>0</th>\n",
       "      <td>0.223879</td>\n",
       "      <td>0.847825</td>\n",
       "      <td>-0.434320</td>\n",
       "      <td>0.033405</td>\n",
       "      <td>-0.050354</td>\n",
       "      <td>0.0</td>\n",
       "      <td>-0.561266</td>\n",
       "      <td>0.265504</td>\n",
       "      <td>0.509501</td>\n",
       "      <td>1.127696</td>\n",
       "      <td>...</td>\n",
       "      <td>NaN</td>\n",
       "      <td>NaN</td>\n",
       "      <td>0.118661</td>\n",
       "      <td>-0.204825</td>\n",
       "      <td>-0.093178</td>\n",
       "      <td>-0.197050</td>\n",
       "      <td>NaN</td>\n",
       "      <td>NaN</td>\n",
       "      <td>NaN</td>\n",
       "      <td>NaN</td>\n",
       "    </tr>\n",
       "    <tr>\n",
       "      <th>1</th>\n",
       "      <td>1.105015</td>\n",
       "      <td>-0.382054</td>\n",
       "      <td>1.012583</td>\n",
       "      <td>0.152382</td>\n",
       "      <td>-0.059776</td>\n",
       "      <td>0.0</td>\n",
       "      <td>0.197330</td>\n",
       "      <td>0.321317</td>\n",
       "      <td>0.456708</td>\n",
       "      <td>0.022567</td>\n",
       "      <td>...</td>\n",
       "      <td>0.194011</td>\n",
       "      <td>1.260949</td>\n",
       "      <td>0.530034</td>\n",
       "      <td>0.406549</td>\n",
       "      <td>0.444564</td>\n",
       "      <td>0.384936</td>\n",
       "      <td>-0.959868</td>\n",
       "      <td>0.411722</td>\n",
       "      <td>0.250045</td>\n",
       "      <td>1.156320</td>\n",
       "    </tr>\n",
       "    <tr>\n",
       "      <th>2</th>\n",
       "      <td>-1.112023</td>\n",
       "      <td>0.797316</td>\n",
       "      <td>-0.479135</td>\n",
       "      <td>0.683141</td>\n",
       "      <td>-0.047691</td>\n",
       "      <td>0.0</td>\n",
       "      <td>-0.902153</td>\n",
       "      <td>0.254341</td>\n",
       "      <td>-0.260740</td>\n",
       "      <td>0.326974</td>\n",
       "      <td>...</td>\n",
       "      <td>3.020445</td>\n",
       "      <td>-0.172375</td>\n",
       "      <td>-1.262377</td>\n",
       "      <td>0.022257</td>\n",
       "      <td>0.014371</td>\n",
       "      <td>0.029823</td>\n",
       "      <td>2.990196</td>\n",
       "      <td>3.625906</td>\n",
       "      <td>3.320359</td>\n",
       "      <td>-0.179091</td>\n",
       "    </tr>\n",
       "    <tr>\n",
       "      <th>3</th>\n",
       "      <td>-0.349640</td>\n",
       "      <td>-0.198431</td>\n",
       "      <td>-0.051316</td>\n",
       "      <td>-1.101992</td>\n",
       "      <td>-0.051060</td>\n",
       "      <td>0.0</td>\n",
       "      <td>0.500993</td>\n",
       "      <td>-0.013563</td>\n",
       "      <td>0.342999</td>\n",
       "      <td>-0.764920</td>\n",
       "      <td>...</td>\n",
       "      <td>-0.319886</td>\n",
       "      <td>-0.275485</td>\n",
       "      <td>-0.322096</td>\n",
       "      <td>-0.292164</td>\n",
       "      <td>-0.362049</td>\n",
       "      <td>-0.283326</td>\n",
       "      <td>-0.101862</td>\n",
       "      <td>-0.178870</td>\n",
       "      <td>-0.308194</td>\n",
       "      <td>-0.275158</td>\n",
       "    </tr>\n",
       "    <tr>\n",
       "      <th>4</th>\n",
       "      <td>0.241679</td>\n",
       "      <td>0.087330</td>\n",
       "      <td>1.112384</td>\n",
       "      <td>-0.158208</td>\n",
       "      <td>-0.047280</td>\n",
       "      <td>0.0</td>\n",
       "      <td>-0.114865</td>\n",
       "      <td>0.187365</td>\n",
       "      <td>0.544697</td>\n",
       "      <td>-0.149489</td>\n",
       "      <td>...</td>\n",
       "      <td>NaN</td>\n",
       "      <td>NaN</td>\n",
       "      <td>-5.905014</td>\n",
       "      <td>26.858657</td>\n",
       "      <td>27.062785</td>\n",
       "      <td>26.904758</td>\n",
       "      <td>-0.101862</td>\n",
       "      <td>-0.178870</td>\n",
       "      <td>-0.308194</td>\n",
       "      <td>-0.275158</td>\n",
       "    </tr>\n",
       "  </tbody>\n",
       "</table>\n",
       "<p>5 rows × 590 columns</p>\n",
       "</div>"
      ],
      "text/plain": [
       "   Spalte: 0  Spalte: 1  Spalte: 2  Spalte: 3  Spalte: 4  Spalte: 5  \\\n",
       "0   0.223879   0.847825  -0.434320   0.033405  -0.050354        0.0   \n",
       "1   1.105015  -0.382054   1.012583   0.152382  -0.059776        0.0   \n",
       "2  -1.112023   0.797316  -0.479135   0.683141  -0.047691        0.0   \n",
       "3  -0.349640  -0.198431  -0.051316  -1.101992  -0.051060        0.0   \n",
       "4   0.241679   0.087330   1.112384  -0.158208  -0.047280        0.0   \n",
       "\n",
       "   Spalte: 6  Spalte: 7  Spalte: 8  Spalte: 9  ...  Spalte: 580  Spalte: 581  \\\n",
       "0  -0.561266   0.265504   0.509501   1.127696  ...          NaN          NaN   \n",
       "1   0.197330   0.321317   0.456708   0.022567  ...     0.194011     1.260949   \n",
       "2  -0.902153   0.254341  -0.260740   0.326974  ...     3.020445    -0.172375   \n",
       "3   0.500993  -0.013563   0.342999  -0.764920  ...    -0.319886    -0.275485   \n",
       "4  -0.114865   0.187365   0.544697  -0.149489  ...          NaN          NaN   \n",
       "\n",
       "   Spalte: 582  Spalte: 583  Spalte: 584  Spalte: 585  Spalte: 586  \\\n",
       "0     0.118661    -0.204825    -0.093178    -0.197050          NaN   \n",
       "1     0.530034     0.406549     0.444564     0.384936    -0.959868   \n",
       "2    -1.262377     0.022257     0.014371     0.029823     2.990196   \n",
       "3    -0.322096    -0.292164    -0.362049    -0.283326    -0.101862   \n",
       "4    -5.905014    26.858657    27.062785    26.904758    -0.101862   \n",
       "\n",
       "   Spalte: 587  Spalte: 588  Spalte: 589  \n",
       "0          NaN          NaN          NaN  \n",
       "1     0.411722     0.250045     1.156320  \n",
       "2     3.625906     3.320359    -0.179091  \n",
       "3    -0.178870    -0.308194    -0.275158  \n",
       "4    -0.178870    -0.308194    -0.275158  \n",
       "\n",
       "[5 rows x 590 columns]"
      ]
     },
     "execution_count": 6,
     "metadata": {},
     "output_type": "execute_result"
    }
   ],
   "source": [
    "secom_df.head()"
   ]
  },
  {
   "cell_type": "markdown",
   "id": "3011f466",
   "metadata": {},
   "source": [
    "How do you plan to handle missing values?"
   ]
  },
  {
   "cell_type": "code",
   "execution_count": 7,
   "id": "78ee95f1",
   "metadata": {},
   "outputs": [
    {
     "name": "stdout",
     "output_type": "stream",
     "text": [
      "True\n"
     ]
    }
   ],
   "source": [
    "print(secom_df.isna().any().any()) "
   ]
  },
  {
   "cell_type": "code",
   "execution_count": 8,
   "id": "36fa8e3e",
   "metadata": {},
   "outputs": [
    {
     "data": {
      "text/plain": [
       "(1567, 558)"
      ]
     },
     "execution_count": 8,
     "metadata": {},
     "output_type": "execute_result"
    }
   ],
   "source": [
    "#https://www.elektormagazine.de/articles/datenanalyse-und-knstliche-intelligenz-in-python\n",
    "na_cols = [col for col in secom_df.columns if secom_df[col].isnull().sum() / len(secom_df) > 0.4]\n",
    "secom_df = secom_df.drop(na_cols, axis=1)\n",
    "secom_df.shape"
   ]
  },
  {
   "cell_type": "code",
   "execution_count": 9,
   "id": "1898b45e",
   "metadata": {},
   "outputs": [],
   "source": [
    "#imputer = SimpleImputer(strategy='mean')\n",
    "imputer = KNNImputer(n_neighbors=12, weights=\"uniform\")\n",
    "secom_imputed = pd.DataFrame(imputer.fit_transform(secom_df))\n",
    "secom_imputed.columns = secom_df.columns\n",
    "secom_df=secom_imputed"
   ]
  },
  {
   "cell_type": "code",
   "execution_count": 10,
   "id": "4c50d557",
   "metadata": {},
   "outputs": [
    {
     "name": "stdout",
     "output_type": "stream",
     "text": [
      "False\n"
     ]
    }
   ],
   "source": [
    "print(secom_df.isna().any().any())"
   ]
  },
  {
   "cell_type": "markdown",
   "id": "af5c0a32",
   "metadata": {},
   "source": [
    "Check for trends and outliers"
   ]
  },
  {
   "cell_type": "code",
   "execution_count": 11,
   "id": "ee097c5f",
   "metadata": {},
   "outputs": [
    {
     "data": {
      "text/html": [
       "<div>\n",
       "<style scoped>\n",
       "    .dataframe tbody tr th:only-of-type {\n",
       "        vertical-align: middle;\n",
       "    }\n",
       "\n",
       "    .dataframe tbody tr th {\n",
       "        vertical-align: top;\n",
       "    }\n",
       "\n",
       "    .dataframe thead th {\n",
       "        text-align: right;\n",
       "    }\n",
       "</style>\n",
       "<table border=\"1\" class=\"dataframe\">\n",
       "  <thead>\n",
       "    <tr style=\"text-align: right;\">\n",
       "      <th></th>\n",
       "      <th>Spalte: 0</th>\n",
       "      <th>Spalte: 1</th>\n",
       "      <th>Spalte: 2</th>\n",
       "      <th>Spalte: 3</th>\n",
       "      <th>Spalte: 4</th>\n",
       "      <th>Spalte: 5</th>\n",
       "      <th>Spalte: 6</th>\n",
       "      <th>Spalte: 7</th>\n",
       "      <th>Spalte: 8</th>\n",
       "      <th>Spalte: 9</th>\n",
       "      <th>...</th>\n",
       "      <th>Spalte: 576</th>\n",
       "      <th>Spalte: 577</th>\n",
       "      <th>Spalte: 582</th>\n",
       "      <th>Spalte: 583</th>\n",
       "      <th>Spalte: 584</th>\n",
       "      <th>Spalte: 585</th>\n",
       "      <th>Spalte: 586</th>\n",
       "      <th>Spalte: 587</th>\n",
       "      <th>Spalte: 588</th>\n",
       "      <th>Spalte: 589</th>\n",
       "    </tr>\n",
       "  </thead>\n",
       "  <tbody>\n",
       "    <tr>\n",
       "      <th>count</th>\n",
       "      <td>1567.000000</td>\n",
       "      <td>1567.000000</td>\n",
       "      <td>1567.000000</td>\n",
       "      <td>1567.000000</td>\n",
       "      <td>1567.000000</td>\n",
       "      <td>1567.0</td>\n",
       "      <td>1567.000000</td>\n",
       "      <td>1567.000000</td>\n",
       "      <td>1567.000000</td>\n",
       "      <td>1567.000000</td>\n",
       "      <td>...</td>\n",
       "      <td>1.567000e+03</td>\n",
       "      <td>1.567000e+03</td>\n",
       "      <td>1567.000000</td>\n",
       "      <td>1567.000000</td>\n",
       "      <td>1567.000000</td>\n",
       "      <td>1567.000000</td>\n",
       "      <td>1567.000000</td>\n",
       "      <td>1567.000000</td>\n",
       "      <td>1567.000000</td>\n",
       "      <td>1567.000000</td>\n",
       "    </tr>\n",
       "    <tr>\n",
       "      <th>mean</th>\n",
       "      <td>-0.001126</td>\n",
       "      <td>0.000368</td>\n",
       "      <td>0.000305</td>\n",
       "      <td>0.000612</td>\n",
       "      <td>0.017391</td>\n",
       "      <td>0.0</td>\n",
       "      <td>-0.003528</td>\n",
       "      <td>-0.011311</td>\n",
       "      <td>-0.000874</td>\n",
       "      <td>-0.000170</td>\n",
       "      <td>...</td>\n",
       "      <td>-4.676469e-16</td>\n",
       "      <td>-3.101398e-15</td>\n",
       "      <td>0.000330</td>\n",
       "      <td>-0.000054</td>\n",
       "      <td>-0.000045</td>\n",
       "      <td>-0.000055</td>\n",
       "      <td>-0.000493</td>\n",
       "      <td>0.000249</td>\n",
       "      <td>0.000282</td>\n",
       "      <td>0.000325</td>\n",
       "    </tr>\n",
       "    <tr>\n",
       "      <th>std</th>\n",
       "      <td>0.998692</td>\n",
       "      <td>0.998288</td>\n",
       "      <td>0.998301</td>\n",
       "      <td>0.996313</td>\n",
       "      <td>1.043059</td>\n",
       "      <td>0.0</td>\n",
       "      <td>0.997243</td>\n",
       "      <td>1.048866</td>\n",
       "      <td>1.000004</td>\n",
       "      <td>0.999710</td>\n",
       "      <td>...</td>\n",
       "      <td>1.000319e+00</td>\n",
       "      <td>1.000319e+00</td>\n",
       "      <td>1.000086</td>\n",
       "      <td>1.000002</td>\n",
       "      <td>1.000002</td>\n",
       "      <td>1.000002</td>\n",
       "      <td>1.000191</td>\n",
       "      <td>1.000049</td>\n",
       "      <td>1.000062</td>\n",
       "      <td>1.000083</td>\n",
       "    </tr>\n",
       "    <tr>\n",
       "      <th>min</th>\n",
       "      <td>-3.685048</td>\n",
       "      <td>-4.193732</td>\n",
       "      <td>-4.741357</td>\n",
       "      <td>-3.162447</td>\n",
       "      <td>-0.062401</td>\n",
       "      <td>0.0</td>\n",
       "      <td>-3.044296</td>\n",
       "      <td>-13.598515</td>\n",
       "      <td>-3.680125</td>\n",
       "      <td>-3.478111</td>\n",
       "      <td>...</td>\n",
       "      <td>-2.896758e-01</td>\n",
       "      <td>-9.662759e-01</td>\n",
       "      <td>-6.551457</td>\n",
       "      <td>-0.542536</td>\n",
       "      <td>-0.577145</td>\n",
       "      <td>-0.522892</td>\n",
       "      <td>-3.104882</td>\n",
       "      <td>-1.507703</td>\n",
       "      <td>-1.494452</td>\n",
       "      <td>-1.061880</td>\n",
       "    </tr>\n",
       "    <tr>\n",
       "      <th>25%</th>\n",
       "      <td>-0.653928</td>\n",
       "      <td>-0.534514</td>\n",
       "      <td>-0.661034</td>\n",
       "      <td>-0.707714</td>\n",
       "      <td>-0.056433</td>\n",
       "      <td>0.0</td>\n",
       "      <td>-0.518846</td>\n",
       "      <td>-0.080539</td>\n",
       "      <td>-0.700685</td>\n",
       "      <td>-0.659039</td>\n",
       "      <td>...</td>\n",
       "      <td>-2.456434e-01</td>\n",
       "      <td>-4.118818e-01</td>\n",
       "      <td>-0.645317</td>\n",
       "      <td>-0.216470</td>\n",
       "      <td>-0.200726</td>\n",
       "      <td>-0.212846</td>\n",
       "      <td>-0.652281</td>\n",
       "      <td>-0.667245</td>\n",
       "      <td>-0.691984</td>\n",
       "      <td>-0.589179</td>\n",
       "    </tr>\n",
       "    <tr>\n",
       "      <th>50%</th>\n",
       "      <td>-0.043247</td>\n",
       "      <td>0.044908</td>\n",
       "      <td>0.017604</td>\n",
       "      <td>-0.246910</td>\n",
       "      <td>-0.051119</td>\n",
       "      <td>0.0</td>\n",
       "      <td>0.060831</td>\n",
       "      <td>0.064576</td>\n",
       "      <td>-0.018432</td>\n",
       "      <td>-0.030373</td>\n",
       "      <td>...</td>\n",
       "      <td>-2.328715e-01</td>\n",
       "      <td>-2.262959e-01</td>\n",
       "      <td>0.030510</td>\n",
       "      <td>-0.088373</td>\n",
       "      <td>-0.066291</td>\n",
       "      <td>-0.086703</td>\n",
       "      <td>-0.077579</td>\n",
       "      <td>-0.190228</td>\n",
       "      <td>-0.238415</td>\n",
       "      <td>-0.294550</td>\n",
       "    </tr>\n",
       "    <tr>\n",
       "      <th>75%</th>\n",
       "      <td>0.571850</td>\n",
       "      <td>0.533761</td>\n",
       "      <td>0.593424</td>\n",
       "      <td>0.439097</td>\n",
       "      <td>-0.047356</td>\n",
       "      <td>0.0</td>\n",
       "      <td>0.548032</td>\n",
       "      <td>0.220853</td>\n",
       "      <td>0.730827</td>\n",
       "      <td>0.611528</td>\n",
       "      <td>...</td>\n",
       "      <td>-2.164669e-01</td>\n",
       "      <td>3.513558e-02</td>\n",
       "      <td>0.662261</td>\n",
       "      <td>0.068838</td>\n",
       "      <td>0.068145</td>\n",
       "      <td>0.063498</td>\n",
       "      <td>0.497123</td>\n",
       "      <td>0.434437</td>\n",
       "      <td>0.389604</td>\n",
       "      <td>0.160658</td>\n",
       "    </tr>\n",
       "    <tr>\n",
       "      <th>max</th>\n",
       "      <td>4.645455</td>\n",
       "      <td>4.361550</td>\n",
       "      <td>3.888312</td>\n",
       "      <td>5.251202</td>\n",
       "      <td>19.708750</td>\n",
       "      <td>0.0</td>\n",
       "      <td>4.512970</td>\n",
       "      <td>0.756660</td>\n",
       "      <td>2.619881</td>\n",
       "      <td>5.012191</td>\n",
       "      <td>...</td>\n",
       "      <td>5.016547e+00</td>\n",
       "      <td>6.435055e+00</td>\n",
       "      <td>2.851353</td>\n",
       "      <td>26.858657</td>\n",
       "      <td>27.062785</td>\n",
       "      <td>26.904758</td>\n",
       "      <td>6.584107</td>\n",
       "      <td>7.203531</td>\n",
       "      <td>8.135170</td>\n",
       "      <td>6.793326</td>\n",
       "    </tr>\n",
       "  </tbody>\n",
       "</table>\n",
       "<p>8 rows × 558 columns</p>\n",
       "</div>"
      ],
      "text/plain": [
       "         Spalte: 0    Spalte: 1    Spalte: 2    Spalte: 3    Spalte: 4  \\\n",
       "count  1567.000000  1567.000000  1567.000000  1567.000000  1567.000000   \n",
       "mean     -0.001126     0.000368     0.000305     0.000612     0.017391   \n",
       "std       0.998692     0.998288     0.998301     0.996313     1.043059   \n",
       "min      -3.685048    -4.193732    -4.741357    -3.162447    -0.062401   \n",
       "25%      -0.653928    -0.534514    -0.661034    -0.707714    -0.056433   \n",
       "50%      -0.043247     0.044908     0.017604    -0.246910    -0.051119   \n",
       "75%       0.571850     0.533761     0.593424     0.439097    -0.047356   \n",
       "max       4.645455     4.361550     3.888312     5.251202    19.708750   \n",
       "\n",
       "       Spalte: 5    Spalte: 6    Spalte: 7    Spalte: 8    Spalte: 9  ...  \\\n",
       "count     1567.0  1567.000000  1567.000000  1567.000000  1567.000000  ...   \n",
       "mean         0.0    -0.003528    -0.011311    -0.000874    -0.000170  ...   \n",
       "std          0.0     0.997243     1.048866     1.000004     0.999710  ...   \n",
       "min          0.0    -3.044296   -13.598515    -3.680125    -3.478111  ...   \n",
       "25%          0.0    -0.518846    -0.080539    -0.700685    -0.659039  ...   \n",
       "50%          0.0     0.060831     0.064576    -0.018432    -0.030373  ...   \n",
       "75%          0.0     0.548032     0.220853     0.730827     0.611528  ...   \n",
       "max          0.0     4.512970     0.756660     2.619881     5.012191  ...   \n",
       "\n",
       "        Spalte: 576   Spalte: 577  Spalte: 582  Spalte: 583  Spalte: 584  \\\n",
       "count  1.567000e+03  1.567000e+03  1567.000000  1567.000000  1567.000000   \n",
       "mean  -4.676469e-16 -3.101398e-15     0.000330    -0.000054    -0.000045   \n",
       "std    1.000319e+00  1.000319e+00     1.000086     1.000002     1.000002   \n",
       "min   -2.896758e-01 -9.662759e-01    -6.551457    -0.542536    -0.577145   \n",
       "25%   -2.456434e-01 -4.118818e-01    -0.645317    -0.216470    -0.200726   \n",
       "50%   -2.328715e-01 -2.262959e-01     0.030510    -0.088373    -0.066291   \n",
       "75%   -2.164669e-01  3.513558e-02     0.662261     0.068838     0.068145   \n",
       "max    5.016547e+00  6.435055e+00     2.851353    26.858657    27.062785   \n",
       "\n",
       "       Spalte: 585  Spalte: 586  Spalte: 587  Spalte: 588  Spalte: 589  \n",
       "count  1567.000000  1567.000000  1567.000000  1567.000000  1567.000000  \n",
       "mean     -0.000055    -0.000493     0.000249     0.000282     0.000325  \n",
       "std       1.000002     1.000191     1.000049     1.000062     1.000083  \n",
       "min      -0.522892    -3.104882    -1.507703    -1.494452    -1.061880  \n",
       "25%      -0.212846    -0.652281    -0.667245    -0.691984    -0.589179  \n",
       "50%      -0.086703    -0.077579    -0.190228    -0.238415    -0.294550  \n",
       "75%       0.063498     0.497123     0.434437     0.389604     0.160658  \n",
       "max      26.904758     6.584107     7.203531     8.135170     6.793326  \n",
       "\n",
       "[8 rows x 558 columns]"
      ]
     },
     "execution_count": 11,
     "metadata": {},
     "output_type": "execute_result"
    }
   ],
   "source": [
    "secom_df.describe() #there are outliers\n",
    "#Standartesierung Notwendig"
   ]
  },
  {
   "cell_type": "code",
   "execution_count": 12,
   "id": "61004b49",
   "metadata": {},
   "outputs": [
    {
     "data": {
      "image/png": "[encoded data removed]",
      "text/plain": [
       "<Figure size 864x720 with 20 Axes>"
      ]
     },
     "metadata": {
      "needs_background": "light"
     },
     "output_type": "display_data"
    }
   ],
   "source": [
    "pd.DataFrame(np.array(secom_df)[:,0:20]).hist(figsize=(12, 10), bins=30, edgecolor=\"black\")\n",
    "plt.subplots_adjust(hspace=0.7, wspace=0.4)\n",
    "#es gibt Konstanten #sehe auch in der Beschreibung der Daten"
   ]
  },
  {
   "cell_type": "code",
   "execution_count": 13,
   "id": "08a4e297",
   "metadata": {},
   "outputs": [
    {
     "data": {
      "text/plain": [
       "(1567, 442)"
      ]
     },
     "execution_count": 13,
     "metadata": {},
     "output_type": "execute_result"
    }
   ],
   "source": [
    "#Entferne Konstanten\n",
    "secom_df=secom_df.loc[:, (secom_df != secom_df.iloc[0]).any()]\n",
    "secom_df.shape"
   ]
  },
  {
   "cell_type": "markdown",
   "id": "be920c7c",
   "metadata": {},
   "source": [
    "Are there redundant features?"
   ]
  },
  {
   "cell_type": "code",
   "execution_count": 14,
   "id": "8a6a31d1",
   "metadata": {},
   "outputs": [
    {
     "data": {
      "text/plain": [
       "<AxesSubplot:>"
      ]
     },
     "execution_count": 14,
     "metadata": {},
     "output_type": "execute_result"
    },
    {
     "data": {
      "image/png": "[encoded data removed]",
      "text/plain": [
       "<Figure size 432x288 with 2 Axes>"
      ]
     },
     "metadata": {
      "needs_background": "light"
     },
     "output_type": "display_data"
    }
   ],
   "source": [
    "sns.heatmap(secom_df.corr())\n",
    "#es existiert eine Korrelation, also es gibt in den Daten redundante Werte"
   ]
  },
  {
   "cell_type": "code",
   "execution_count": 15,
   "id": "b186fc79",
   "metadata": {
    "scrolled": true
   },
   "outputs": [
    {
     "data": {
      "text/plain": [
       "(1567, 371)"
      ]
     },
     "execution_count": 15,
     "metadata": {},
     "output_type": "execute_result"
    }
   ],
   "source": [
    "#https://www.projectpro.io/recipes/drop-out-highly-correlated-features-in-python#mcetoc_1g0c4fnd4a\n",
    "df= secom_df\n",
    "cor_matrix = df.corr(method=\"spearman\").abs()\n",
    "#print(cor_matrix)\n",
    "upper_tri = cor_matrix.where(np.triu(np.ones(cor_matrix.shape),k=1).astype(bool))\n",
    "upper_tri.set_axis(list(range(0,secom_df.shape[1])), axis=1,inplace=True)\n",
    "#print(upper_tri)\n",
    "to_drop = [column for column in upper_tri.columns if any(upper_tri[column] > 0.99)]\n",
    "secom_df = df.drop(df.columns[to_drop], axis=1) # geht nur ein mal\n",
    "#print(secom_df.head())\n",
    "secom_df.shape #Redundante Werte sind entfernt"
   ]
  },
  {
   "cell_type": "code",
   "execution_count": 16,
   "id": "6b35ea1c",
   "metadata": {},
   "outputs": [
    {
     "name": "stdout",
     "output_type": "stream",
     "text": [
      "      Spalte: 0  Spalte: 1  Spalte: 2  Spalte: 3  Spalte: 4  Spalte: 6  \\\n",
      "0      0.223879   0.847825  -0.434320   0.033405  -0.050354  -0.561266   \n",
      "1      1.105015  -0.382054   1.012583   0.152382  -0.059776   0.197330   \n",
      "2     -1.112023   0.797316  -0.479135   0.683141  -0.047691  -0.902153   \n",
      "3     -0.349640  -0.198431  -0.051316  -1.101992  -0.051060   0.500993   \n",
      "4      0.241679   0.087330   1.112384  -0.158208  -0.047280  -0.114865   \n",
      "...         ...        ...        ...        ...        ...        ...   \n",
      "1562  -1.563121  -0.391758  -0.705473   3.825170  -0.048151  -3.025756   \n",
      "1563   0.514375   0.332161  -0.067131  -0.615372  -0.058943  -0.424045   \n",
      "1564  -0.484290  -1.443984   0.194982  -0.647447  -0.059879  -0.272759   \n",
      "1565  -1.624128   0.449849  -0.796987  -0.481595  -0.046584  -0.371296   \n",
      "1566  -0.944764  -0.560950  -0.172959   3.437447  -0.046137  -2.567968   \n",
      "\n",
      "      Spalte: 7  Spalte: 8  Spalte: 9  Spalte: 10  ...  Spalte: 574  \\\n",
      "0      0.265504   0.509501   1.127696   -0.381299  ...    -0.226665   \n",
      "1      0.321317   0.456708   0.022567   -1.607220  ...    -0.265730   \n",
      "2      0.254341  -0.260740   0.326974    0.124124  ...    -0.188395   \n",
      "3     -0.013563   0.342999  -0.764920   -0.370545  ...    -0.232808   \n",
      "4      0.187365   0.544697  -0.149489   -0.789939  ...    -0.222385   \n",
      "...         ...        ...        ...         ...  ...          ...   \n",
      "1562   0.332479  -1.630660  -0.242134   -0.628634  ...    -0.242357   \n",
      "1563  -0.147515  -0.400169  -0.348015   -1.015767  ...    -0.269572   \n",
      "1564  -0.114027  -0.488835  -0.301692    0.351744  ...    -0.259603   \n",
      "1565  -0.058213  -0.008957  -0.420808    0.328445  ...    -0.219605   \n",
      "1566   0.187365  -0.880385   0.035802    0.094552  ...    -0.256010   \n",
      "\n",
      "      Spalte: 575  Spalte: 577  Spalte: 582  Spalte: 583  Spalte: 584  \\\n",
      "0       -0.031418    -0.135520     0.118661    -0.204825    -0.093178   \n",
      "1       -0.406218    -0.460054     0.530034     0.406549     0.444564   \n",
      "2       -0.600996    -0.590505    -1.262377     0.022257     0.014371   \n",
      "3       -0.770689    -0.645708    -0.322096    -0.292164    -0.362049   \n",
      "4       -0.503607    -0.454486    -5.905014    26.858657    27.062785   \n",
      "...           ...          ...          ...          ...          ...   \n",
      "1562    -0.387035    -0.393931    -0.380863    -0.059260     0.014371   \n",
      "1563     0.244518     0.095786    -0.762852    -0.129131    -0.066291   \n",
      "1564     0.449625     0.086877    -0.410247    -0.001034     0.068145   \n",
      "1565    -0.010759     0.205751     0.089277     0.144532    -0.012516   \n",
      "1566     0.660634     0.502828    -0.410247     0.161999     0.041258   \n",
      "\n",
      "      Spalte: 586  Spalte: 587  Spalte: 588  Spalte: 589  \n",
      "0       -0.773022     0.389953     0.441939     0.508524  \n",
      "1       -0.959868     0.411722     0.250045     1.156320  \n",
      "2        2.990196     3.625906     3.320359    -0.179091  \n",
      "3       -0.101862    -0.178870    -0.308194    -0.275158  \n",
      "4       -0.101862    -0.178870    -0.308194    -0.275158  \n",
      "...           ...          ...          ...          ...  \n",
      "1562    -1.186511    -0.303803    -0.203525     1.102704  \n",
      "1563    -1.186511    -0.303803    -0.203525     1.102704  \n",
      "1564    -0.142334    -0.894395    -0.971103    -0.598187  \n",
      "1565     0.383801     0.911454     0.773394    -0.065798  \n",
      "1566    -0.789886    -0.031222    -0.273305     0.406068  \n",
      "\n",
      "[1567 rows x 371 columns]\n"
     ]
    }
   ],
   "source": [
    "#print(Spaltennamen)\n",
    "print(secom_df)"
   ]
  },
  {
   "cell_type": "markdown",
   "id": "1ad6ac44",
   "metadata": {},
   "source": [
    "feature importances"
   ]
  },
  {
   "cell_type": "code",
   "execution_count": 17,
   "id": "fab1df28",
   "metadata": {},
   "outputs": [
    {
     "ename": "TypeError",
     "evalue": "__init__() got an unexpected keyword argument 'feature_names_in_'",
     "output_type": "error",
     "traceback": [
      "\u001b[1;31m---------------------------------------------------------------------------\u001b[0m",
      "\u001b[1;31mTypeError\u001b[0m                                 Traceback (most recent call last)",
      "\u001b[1;32m~\\AppData\\Local\\Temp/ipykernel_30532/587873619.py\u001b[0m in \u001b[0;36m<module>\u001b[1;34m\u001b[0m\n\u001b[0;32m      2\u001b[0m \u001b[0mk\u001b[0m\u001b[1;33m=\u001b[0m\u001b[1;36m40\u001b[0m\u001b[1;33m\u001b[0m\u001b[1;33m\u001b[0m\u001b[0m\n\u001b[0;32m      3\u001b[0m \u001b[1;31m# define feature selection ANOVA entspricht Ftest\u001b[0m\u001b[1;33m\u001b[0m\u001b[1;33m\u001b[0m\u001b[0m\n\u001b[1;32m----> 4\u001b[1;33m \u001b[0mfs\u001b[0m \u001b[1;33m=\u001b[0m \u001b[0mSelectKBest\u001b[0m\u001b[1;33m(\u001b[0m\u001b[0mscore_func\u001b[0m\u001b[1;33m=\u001b[0m\u001b[0mf_classif\u001b[0m\u001b[1;33m,\u001b[0m \u001b[0mk\u001b[0m\u001b[1;33m=\u001b[0m\u001b[0mk\u001b[0m\u001b[1;33m,\u001b[0m \u001b[0mfeature_names_in_\u001b[0m \u001b[1;33m=\u001b[0m \u001b[0mSpaltennamen\u001b[0m\u001b[1;33m)\u001b[0m\u001b[1;33m\u001b[0m\u001b[1;33m\u001b[0m\u001b[0m\n\u001b[0m\u001b[0;32m      5\u001b[0m \u001b[1;31m# apply feature selection\u001b[0m\u001b[1;33m\u001b[0m\u001b[1;33m\u001b[0m\u001b[0m\n\u001b[0;32m      6\u001b[0m \u001b[0msecom_df\u001b[0m \u001b[1;33m=\u001b[0m \u001b[0mpd\u001b[0m\u001b[1;33m.\u001b[0m\u001b[0mDataFrame\u001b[0m\u001b[1;33m(\u001b[0m\u001b[0mfs\u001b[0m\u001b[1;33m.\u001b[0m\u001b[0mfit_transform\u001b[0m\u001b[1;33m(\u001b[0m\u001b[0msecom_df\u001b[0m\u001b[1;33m,\u001b[0m \u001b[0mlabels_df\u001b[0m\u001b[1;33m)\u001b[0m\u001b[1;33m)\u001b[0m\u001b[1;33m\u001b[0m\u001b[1;33m\u001b[0m\u001b[0m\n",
      "\u001b[1;32m~\\anaconda3\\lib\\site-packages\\sklearn\\utils\\validation.py\u001b[0m in \u001b[0;36minner_f\u001b[1;34m(*args, **kwargs)\u001b[0m\n\u001b[0;32m     61\u001b[0m             \u001b[0mextra_args\u001b[0m \u001b[1;33m=\u001b[0m \u001b[0mlen\u001b[0m\u001b[1;33m(\u001b[0m\u001b[0margs\u001b[0m\u001b[1;33m)\u001b[0m \u001b[1;33m-\u001b[0m \u001b[0mlen\u001b[0m\u001b[1;33m(\u001b[0m\u001b[0mall_args\u001b[0m\u001b[1;33m)\u001b[0m\u001b[1;33m\u001b[0m\u001b[1;33m\u001b[0m\u001b[0m\n\u001b[0;32m     62\u001b[0m             \u001b[1;32mif\u001b[0m \u001b[0mextra_args\u001b[0m \u001b[1;33m<=\u001b[0m \u001b[1;36m0\u001b[0m\u001b[1;33m:\u001b[0m\u001b[1;33m\u001b[0m\u001b[1;33m\u001b[0m\u001b[0m\n\u001b[1;32m---> 63\u001b[1;33m                 \u001b[1;32mreturn\u001b[0m \u001b[0mf\u001b[0m\u001b[1;33m(\u001b[0m\u001b[1;33m*\u001b[0m\u001b[0margs\u001b[0m\u001b[1;33m,\u001b[0m \u001b[1;33m**\u001b[0m\u001b[0mkwargs\u001b[0m\u001b[1;33m)\u001b[0m\u001b[1;33m\u001b[0m\u001b[1;33m\u001b[0m\u001b[0m\n\u001b[0m\u001b[0;32m     64\u001b[0m \u001b[1;33m\u001b[0m\u001b[0m\n\u001b[0;32m     65\u001b[0m             \u001b[1;31m# extra_args > 0\u001b[0m\u001b[1;33m\u001b[0m\u001b[1;33m\u001b[0m\u001b[0m\n",
      "\u001b[1;31mTypeError\u001b[0m: __init__() got an unexpected keyword argument 'feature_names_in_'"
     ]
    }
   ],
   "source": [
    "# ANOVA feature selection for numeric input and categorical output\n",
    "k=40\n",
    "# define feature selection ANOVA entspricht Ftest\n",
    "fs = SelectKBest(score_func=f_classif, k=k, feature_names_in_ = Spaltennamen)\n",
    "# apply feature selection \n",
    "secom_df = pd.DataFrame(fs.fit_transform(secom_df, labels_df))\n",
    "print(secom_df) #Spaltennamen sollten alte sein"
   ]
  },
  {
   "cell_type": "code",
   "execution_count": null,
   "id": "c0ea3ca2",
   "metadata": {},
   "outputs": [],
   "source": [
    "secom_df.keys() #->key falsch gesetzt"
   ]
  },
  {
   "cell_type": "markdown",
   "id": "98f528ab",
   "metadata": {},
   "source": [
    "Aufgabe 2"
   ]
  },
  {
   "cell_type": "markdown",
   "id": "36ddac27",
   "metadata": {},
   "source": [
    "Are there specific times with a higher rate of errors?"
   ]
  },
  {
   "cell_type": "code",
   "execution_count": null,
   "id": "8f236719",
   "metadata": {},
   "outputs": [],
   "source": [
    "plt.hist(time_df[time_df['FPY'] != '1'][0]);"
   ]
  },
  {
   "cell_type": "code",
   "execution_count": null,
   "id": "7b5b50b4",
   "metadata": {},
   "outputs": [],
   "source": [
    "# Split the data into training and testing sets\n",
    "X_train, X_test, y_train, y_test = train_test_split(secom_df, labels_df, test_size = 0.2, random_state = 42)"
   ]
  },
  {
   "cell_type": "code",
   "execution_count": null,
   "id": "dfd24771",
   "metadata": {},
   "outputs": [],
   "source": [
    "print('Training Features Shape:', X_train.shape)\n",
    "print('Training Labels Shape:', y_train.shape)\n",
    "print('Testing Features Shape:', X_test.shape)\n",
    "print('Testing Labels Shape:', y_test.shape)"
   ]
  },
  {
   "cell_type": "markdown",
   "id": "6c585b3b",
   "metadata": {},
   "source": [
    "Develop a prediction model for First Pass Yield (FPY)"
   ]
  },
  {
   "cell_type": "code",
   "execution_count": null,
   "id": "3477358d",
   "metadata": {},
   "outputs": [],
   "source": [
    "lr = LogisticRegression(max_iter=10000,random_state=0, penalty='l1', solver='liblinear')\n",
    "lr1 = lr.fit(X_train, y_train)\n",
    "y_pred_lr= lr1.predict(X_test)\n",
    "y_pred_lr_prob = lr1.predict_proba(X_test)\n",
    "\n",
    "\n",
    "rf = RandomForestClassifier(n_estimators=100)\n",
    "rf1 = rf.fit(X_train,y_train)\n",
    "y_pred_rf = rf1.predict(X_test)\n",
    "y_pred_rf_prob = rf1.predict_proba(X_test)\n",
    "\n",
    "gbm = GradientBoostingClassifier()\n",
    "gbm1 = gbm.fit(X_train,y_train)\n",
    "y_pred_gbm= gbm1.predict(X_test)\n",
    "y_pred_gbm_prob = gbm1.predict_proba(X_test)\n",
    "\n",
    "b = BaggingClassifier()\n",
    "b1 = b.fit(X_train,y_train)\n",
    "y_pred_b= b1.predict(X_test)\n",
    "y_pred_b_prob = b1.predict_proba(X_test)"
   ]
  },
  {
   "cell_type": "code",
   "execution_count": null,
   "id": "f6bef140",
   "metadata": {},
   "outputs": [],
   "source": [
    "print(\"accuracy score train\")\n",
    "print(\"LassoClassifier: {0}\".format(lr1.score(X_train,y_train)))\n",
    "print(\"RandomForestClassifier: {0}\".format(rf1.score(X_train,y_train)))\n",
    "print(\"GradientBoostingClassifier: {0}\".format(gbm1.score(X_train,y_train)))\n",
    "print(\"BaggingClassifier: {0}\".format(b1.score(X_train,y_train)))"
   ]
  },
  {
   "cell_type": "code",
   "execution_count": null,
   "id": "4267c0d8",
   "metadata": {},
   "outputs": [],
   "source": [
    "score_lr = cross_validate(lr, X_train,y_train, cv=5, return_train_score=True)\n",
    "score_rf = cross_validate(rf, X_train,y_train, cv=5, return_train_score=True)\n",
    "score_gbm = cross_validate(gbm, X_train,y_train, cv=5, return_train_score=True)\n",
    "score_b = cross_validate(b, X_train,y_train, cv=5, return_train_score=True)\n",
    "\n",
    "print(\"accuracy score train cross-validation\")\n",
    "print(\"LassoClassifier: {0}\".format(score_lr['train_score'].mean()))\n",
    "print(\"RandomForestClassifier: {0}\".format(score_rf['train_score'].mean()))\n",
    "print(\"GradientBoostingClassifier: {0}\".format(score_gbm['train_score'].mean()))\n",
    "print(\"BaggingClassifier: {0}\".format(score_b['train_score'].mean()))"
   ]
  },
  {
   "cell_type": "code",
   "execution_count": null,
   "id": "1dc7de34",
   "metadata": {},
   "outputs": [],
   "source": [
    "def RandomForestHyper(x_train,y_train):\n",
    "\n",
    "    rf = RandomForestClassifier(random_state=0)\n",
    "    \n",
    "    distributions = {'n_estimators':[200,300,400,500,1000,1500,2000],\n",
    "                     'max_depth':[2,4,6,8,10],\n",
    "                     'min_samples_leaf':[1,2,4],\n",
    "                     'min_samples_split':[2,4,6,8,10]}\n",
    "    opt = GridSearchCV(estimator = rf, param_grid = distributions, \n",
    "                              cv = 5, n_jobs = -1, verbose = 2)\n",
    "    opt.fit(X_train,y_train)\n",
    "    print(opt.best_estimator_)\n",
    "    print(opt.best_score_)\n",
    "    return opt\n",
    "\n",
    "def GradientBoostingHyper(x_train,y_train):\n",
    "  \n",
    "    gb = GradientBoostingClassifier(random_state=0)\n",
    "    \n",
    "    distributions = {'n_estimators':[200,300,400,500,1000,1500,2000],\n",
    "                     'max_depth':[2,4,6,8,10],\n",
    "                     'min_samples_leaf':[1,2,4],\n",
    "                     'min_samples_split':[2,4,6,8,10]}\n",
    "    opt = GridSearchCV(estimator = gb, param_grid = distributions, \n",
    "                              cv = 5, n_jobs = -1, verbose = 2)\n",
    "    opt.fit(X_train,y_train)\n",
    "    print(opt.best_estimator_)\n",
    "    print(opt.best_score_)\n",
    "    return opt\n"
   ]
  },
  {
   "cell_type": "code",
   "execution_count": null,
   "id": "7606bd51",
   "metadata": {},
   "outputs": [],
   "source": [
    "res_rf = RandomForestHyper(X_train,y_train.ravel())\n",
    "res_boost2 = GradientBoostingHyper(X_train,y_train.ravel())\n"
   ]
  },
  {
   "cell_type": "markdown",
   "id": "aef9e79b",
   "metadata": {},
   "source": [
    "Which of the process features are important for the prediction of First Pass\n",
    "Yield (FPY)?"
   ]
  },
  {
   "cell_type": "code",
   "execution_count": null,
   "id": "a6cd0989",
   "metadata": {},
   "outputs": [],
   "source": [
    "# GBM\n",
    "gbm_importance = gbm.feature_importances_\n",
    "gbm_ranked_indices = np.argsort(gbm_importance)[::-1]\n",
    "\n",
    "#Random Forest\n",
    "rf_importance = rf.feature_importances_\n",
    "rf_ranked_indices = np.argsort(rf_importance)[::-1]\n",
    "\n",
    "#Boosting\n",
    "b_importance = np.mean([tree.feature_importances_ for tree in b.estimators_], axis=0)\n",
    "b_ranked_indices = np.argsort(b_importance)[::-1]\n",
    "\n",
    "# printing results in a table\n",
    "importance_results = pd.DataFrame(index=range(1,16), \n",
    "                                  columns=pd.MultiIndex.from_product([['GBM','RF','B'],['Feature #','Importance']]))\n",
    "importance_results.index.name = 'Rank'\n",
    "importance_results.loc[:,'GBM'] =  list(zip(gbm_ranked_indices[:15], \n",
    "                                            gbm_importance[gbm_ranked_indices[:15]]))\n",
    "importance_results.loc[:,'RF'] =  list(zip(rf_ranked_indices[:15], \n",
    "                                           rf_importance[rf_ranked_indices[:15]]))\n",
    "importance_results.loc[:,'B'] =  list(zip(b_ranked_indices[:15], \n",
    "                                           b_importance[b_ranked_indices[:15]]))\n",
    "print(importance_results)\n",
    "\n",
    "#Auswertung fehlt"
   ]
  },
  {
   "cell_type": "markdown",
   "id": "e6c01f80",
   "metadata": {},
   "source": [
    "Assess the accuracy of the prediction"
   ]
  },
  {
   "cell_type": "code",
   "execution_count": null,
   "id": "bf1c91a7",
   "metadata": {},
   "outputs": [],
   "source": [
    "print(\"accuracy score train\")\n",
    "print(\"LassoClassifier: {0}\".format(lr1.score(X_train,y_train)))\n",
    "print(\"RandomForestClassifier: {0}\".format(rf1.score(X_train,y_train)))\n",
    "print(\"GradientBoostingClassifier: {0}\".format(gbm1.score(X_train,y_train)))\n",
    "print(\"BaggingClassifier: {0}\".format(b1.score(X_train,y_train)))"
   ]
  },
  {
   "cell_type": "code",
   "execution_count": null,
   "id": "f1ec2e38",
   "metadata": {},
   "outputs": [],
   "source": [
    "#FPR and TRP for ROC-curve\n",
    "fpr_lr, tpr_lr, thresholds = roc_curve(y_test, y_pred_lr_prob[: , 1], pos_label= 1)\n",
    "fpr_rf, tpr_rf, thresholds = roc_curve(y_test, y_pred_rf_prob[: , 1], pos_label= 1)\n",
    "fpr_gbm, tpr_gbm, thresholds = roc_curve(y_test, y_pred_gbm_prob[: , 1], pos_label= 1)\n",
    "fpr_b, tpr_b, thresholds = roc_curve(y_test, y_pred_b_prob[: , 1], pos_label= 1)\n",
    "\n",
    "\n",
    "#ROC curves for false positive rate and true postive rate\n",
    "fig = plt.figure(figsize=(8,6))\n",
    "ax = fig.add_subplot(111)\n",
    "\n",
    "# Connect diagonals\n",
    "ax.plot([0, 1], [0, 1], ls=\"--\")\n",
    "\n",
    "ax.set_xlabel('False Positive Rate')\n",
    "ax.set_ylabel('True Positive Rate')\n",
    "ax.set_title('ROC curve for the false positive rate and the true postive rate')\n",
    "\n",
    "ax.plot(fpr_lr, tpr_lr, label = \"lr\")\n",
    "ax.plot(fpr_rf, tpr_rf, label = \"rf\")\n",
    "ax.plot(fpr_gbm, tpr_gbm, label = \"gbm\")\n",
    "ax.plot(fpr_b, tpr_b, label = \"b\")\n",
    "\n",
    "# Set legend and show plot\n",
    "ax.legend(loc=\"lower right\")\n",
    "plt.show()\n"
   ]
  },
  {
   "cell_type": "code",
   "execution_count": null,
   "id": "095b85ab",
   "metadata": {},
   "outputs": [],
   "source": [
    "print(\"accuracy score test\")\n",
    "print(\"LassoClassifier: {0}\".format(accuracy_score(y_test,y_pred_lr)))\n",
    "print(\"RandomForestClassifier: {0}\".format(accuracy_score(y_test,y_pred_rf)))\n",
    "print(\"GradientBoostingClassifier: {0}\".format(accuracy_score(y_test,y_pred_gbm)))\n",
    "print(\"BaggingClassifier: {0}\".format(accuracy_score(y_test,y_pred_b)))"
   ]
  },
  {
   "cell_type": "code",
   "execution_count": null,
   "id": "86886af5",
   "metadata": {},
   "outputs": [],
   "source": []
  },
  {
   "cell_type": "code",
   "execution_count": null,
   "id": "c03076b6",
   "metadata": {},
   "outputs": [],
   "source": []
  }
 ],
 "metadata": {
  "kernelspec": {
   "display_name": "Python 3 (ipykernel)",
   "language": "python",
   "name": "python3"
  },
  "language_info": {
   "codemirror_mode": {
    "name": "ipython",
    "version": 3
   },
   "file_extension": ".py",
   "mimetype": "text/x-python",
   "name": "python",
   "nbconvert_exporter": "python",
   "pygments_lexer": "ipython3",
   "version": "3.9.7"
  }
 },
 "nbformat": 4,
 "nbformat_minor": 5
}
