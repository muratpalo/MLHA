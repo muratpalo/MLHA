{
 "cells": [
  {
   "cell_type": "code",
   "execution_count": 1,
   "id": "e348aed2",
   "metadata": {},
   "outputs": [],
   "source": [
    "import csv\n",
    "\n",
    "import numpy as np\n",
    "import pandas as pd\n",
    "import matplotlib.pyplot as plt \n",
    "import seaborn as sns\n",
    "\n",
    "from sklearn import preprocessing\n",
    "#from sklearn.preprocessing import StandardScaler\n",
    "from sklearn.impute import SimpleImputer\n",
    "from sklearn.impute import KNNImputer\n",
    "\n",
    "#from sklearn.ensemble import RandomForestRegressor\n",
    "from sklearn.model_selection import train_test_split\n",
    "from sklearn.ensemble import RandomForestClassifier\n",
    "\n",
    "from sklearn.datasets import make_classification\n",
    "from sklearn.feature_selection import SelectKBest\n",
    "from sklearn.feature_selection import f_classif\n",
    "\n",
    "from sklearn.experimental import enable_iterative_imputer \n",
    "from sklearn.impute import IterativeImputer\n",
    "from sklearn.impute import KNNImputer\n",
    "from sklearn.inspection import permutation_importance\n",
    "\n",
    "from sklearn.linear_model import LogisticRegression\n",
    "from sklearn import linear_model\n",
    "from sklearn.ensemble import RandomForestClassifier\n",
    "from sklearn.ensemble import GradientBoostingClassifier\n",
    "from sklearn.neighbors import KNeighborsClassifier\n",
    "from sklearn.ensemble import BaggingClassifier\n",
    "from sklearn.experimental import enable_iterative_imputer\n",
    "\n",
    "from sklearn.metrics import accuracy_score\n",
    "from sklearn.metrics import confusion_matrix\n",
    "from sklearn.metrics import r2_score,mean_squared_error\n",
    "\n",
    "from sklearn.pipeline import make_pipeline\n",
    "from sklearn.decomposition import PCA\n",
    "import umap\n",
    "from sklearn.metrics import classification_report"
   ]
  },
  {
   "cell_type": "code",
   "execution_count": 2,
   "id": "cc087a71",
   "metadata": {},
   "outputs": [
    {
     "ename": "OSError",
     "evalue": "./secom.data not found.",
     "output_type": "error",
     "traceback": [
      "\u001b[1;31m---------------------------------------------------------------------------\u001b[0m",
      "\u001b[1;31mOSError\u001b[0m                                   Traceback (most recent call last)",
      "\u001b[1;32m~\\AppData\\Local\\Temp/ipykernel_13088/246522927.py\u001b[0m in \u001b[0;36m<module>\u001b[1;34m\u001b[0m\n\u001b[1;32m----> 1\u001b[1;33m \u001b[0msecom_df\u001b[0m \u001b[1;33m=\u001b[0m \u001b[0mnp\u001b[0m\u001b[1;33m.\u001b[0m\u001b[0mloadtxt\u001b[0m\u001b[1;33m(\u001b[0m\u001b[1;34m'./secom.data'\u001b[0m\u001b[1;33m,\u001b[0m \u001b[0mdtype\u001b[0m\u001b[1;33m=\u001b[0m\u001b[0mstr\u001b[0m\u001b[1;33m)\u001b[0m\u001b[1;33m\u001b[0m\u001b[1;33m\u001b[0m\u001b[0m\n\u001b[0m\u001b[0;32m      2\u001b[0m \u001b[0msecom_df\u001b[0m \u001b[1;33m=\u001b[0m \u001b[0mpd\u001b[0m\u001b[1;33m.\u001b[0m\u001b[0mDataFrame\u001b[0m\u001b[1;33m(\u001b[0m\u001b[0mpreprocessing\u001b[0m\u001b[1;33m.\u001b[0m\u001b[0mscale\u001b[0m\u001b[1;33m(\u001b[0m\u001b[0msecom_df\u001b[0m\u001b[1;33m)\u001b[0m\u001b[1;33m)\u001b[0m \u001b[1;31m#scaling and Data Frame\u001b[0m\u001b[1;33m\u001b[0m\u001b[1;33m\u001b[0m\u001b[0m\n\u001b[0;32m      3\u001b[0m \u001b[1;33m\u001b[0m\u001b[0m\n\u001b[0;32m      4\u001b[0m \u001b[0mtarget\u001b[0m \u001b[1;33m=\u001b[0m \u001b[0mnp\u001b[0m\u001b[1;33m.\u001b[0m\u001b[0mloadtxt\u001b[0m\u001b[1;33m(\u001b[0m\u001b[1;34m'./secom_labels.data'\u001b[0m\u001b[1;33m,\u001b[0m \u001b[0mdtype\u001b[0m\u001b[1;33m=\u001b[0m\u001b[0mstr\u001b[0m\u001b[1;33m)\u001b[0m\u001b[1;33m\u001b[0m\u001b[1;33m\u001b[0m\u001b[0m\n\u001b[0;32m      5\u001b[0m \u001b[1;33m\u001b[0m\u001b[0m\n",
      "\u001b[1;32m~\\anaconda3\\lib\\site-packages\\numpy\\lib\\npyio.py\u001b[0m in \u001b[0;36mloadtxt\u001b[1;34m(fname, dtype, comments, delimiter, converters, skiprows, usecols, unpack, ndmin, encoding, max_rows, like)\u001b[0m\n\u001b[0;32m   1063\u001b[0m             \u001b[0mfname\u001b[0m \u001b[1;33m=\u001b[0m \u001b[0mos_fspath\u001b[0m\u001b[1;33m(\u001b[0m\u001b[0mfname\u001b[0m\u001b[1;33m)\u001b[0m\u001b[1;33m\u001b[0m\u001b[1;33m\u001b[0m\u001b[0m\n\u001b[0;32m   1064\u001b[0m         \u001b[1;32mif\u001b[0m \u001b[0m_is_string_like\u001b[0m\u001b[1;33m(\u001b[0m\u001b[0mfname\u001b[0m\u001b[1;33m)\u001b[0m\u001b[1;33m:\u001b[0m\u001b[1;33m\u001b[0m\u001b[1;33m\u001b[0m\u001b[0m\n\u001b[1;32m-> 1065\u001b[1;33m             \u001b[0mfh\u001b[0m \u001b[1;33m=\u001b[0m \u001b[0mnp\u001b[0m\u001b[1;33m.\u001b[0m\u001b[0mlib\u001b[0m\u001b[1;33m.\u001b[0m\u001b[0m_datasource\u001b[0m\u001b[1;33m.\u001b[0m\u001b[0mopen\u001b[0m\u001b[1;33m(\u001b[0m\u001b[0mfname\u001b[0m\u001b[1;33m,\u001b[0m \u001b[1;34m'rt'\u001b[0m\u001b[1;33m,\u001b[0m \u001b[0mencoding\u001b[0m\u001b[1;33m=\u001b[0m\u001b[0mencoding\u001b[0m\u001b[1;33m)\u001b[0m\u001b[1;33m\u001b[0m\u001b[1;33m\u001b[0m\u001b[0m\n\u001b[0m\u001b[0;32m   1066\u001b[0m             \u001b[0mfencoding\u001b[0m \u001b[1;33m=\u001b[0m \u001b[0mgetattr\u001b[0m\u001b[1;33m(\u001b[0m\u001b[0mfh\u001b[0m\u001b[1;33m,\u001b[0m \u001b[1;34m'encoding'\u001b[0m\u001b[1;33m,\u001b[0m \u001b[1;34m'latin1'\u001b[0m\u001b[1;33m)\u001b[0m\u001b[1;33m\u001b[0m\u001b[1;33m\u001b[0m\u001b[0m\n\u001b[0;32m   1067\u001b[0m             \u001b[0mfh\u001b[0m \u001b[1;33m=\u001b[0m \u001b[0miter\u001b[0m\u001b[1;33m(\u001b[0m\u001b[0mfh\u001b[0m\u001b[1;33m)\u001b[0m\u001b[1;33m\u001b[0m\u001b[1;33m\u001b[0m\u001b[0m\n",
      "\u001b[1;32m~\\anaconda3\\lib\\site-packages\\numpy\\lib\\_datasource.py\u001b[0m in \u001b[0;36mopen\u001b[1;34m(path, mode, destpath, encoding, newline)\u001b[0m\n\u001b[0;32m    192\u001b[0m \u001b[1;33m\u001b[0m\u001b[0m\n\u001b[0;32m    193\u001b[0m     \u001b[0mds\u001b[0m \u001b[1;33m=\u001b[0m \u001b[0mDataSource\u001b[0m\u001b[1;33m(\u001b[0m\u001b[0mdestpath\u001b[0m\u001b[1;33m)\u001b[0m\u001b[1;33m\u001b[0m\u001b[1;33m\u001b[0m\u001b[0m\n\u001b[1;32m--> 194\u001b[1;33m     \u001b[1;32mreturn\u001b[0m \u001b[0mds\u001b[0m\u001b[1;33m.\u001b[0m\u001b[0mopen\u001b[0m\u001b[1;33m(\u001b[0m\u001b[0mpath\u001b[0m\u001b[1;33m,\u001b[0m \u001b[0mmode\u001b[0m\u001b[1;33m,\u001b[0m \u001b[0mencoding\u001b[0m\u001b[1;33m=\u001b[0m\u001b[0mencoding\u001b[0m\u001b[1;33m,\u001b[0m \u001b[0mnewline\u001b[0m\u001b[1;33m=\u001b[0m\u001b[0mnewline\u001b[0m\u001b[1;33m)\u001b[0m\u001b[1;33m\u001b[0m\u001b[1;33m\u001b[0m\u001b[0m\n\u001b[0m\u001b[0;32m    195\u001b[0m \u001b[1;33m\u001b[0m\u001b[0m\n\u001b[0;32m    196\u001b[0m \u001b[1;33m\u001b[0m\u001b[0m\n",
      "\u001b[1;32m~\\anaconda3\\lib\\site-packages\\numpy\\lib\\_datasource.py\u001b[0m in \u001b[0;36mopen\u001b[1;34m(self, path, mode, encoding, newline)\u001b[0m\n\u001b[0;32m    529\u001b[0m                                       encoding=encoding, newline=newline)\n\u001b[0;32m    530\u001b[0m         \u001b[1;32melse\u001b[0m\u001b[1;33m:\u001b[0m\u001b[1;33m\u001b[0m\u001b[1;33m\u001b[0m\u001b[0m\n\u001b[1;32m--> 531\u001b[1;33m             \u001b[1;32mraise\u001b[0m \u001b[0mIOError\u001b[0m\u001b[1;33m(\u001b[0m\u001b[1;34m\"%s not found.\"\u001b[0m \u001b[1;33m%\u001b[0m \u001b[0mpath\u001b[0m\u001b[1;33m)\u001b[0m\u001b[1;33m\u001b[0m\u001b[1;33m\u001b[0m\u001b[0m\n\u001b[0m\u001b[0;32m    532\u001b[0m \u001b[1;33m\u001b[0m\u001b[0m\n\u001b[0;32m    533\u001b[0m \u001b[1;33m\u001b[0m\u001b[0m\n",
      "\u001b[1;31mOSError\u001b[0m: ./secom.data not found."
     ]
    }
   ],
   "source": [
    "secom_df = np.loadtxt('./secom.data', dtype=str) \n",
    "secom_df = pd.DataFrame(preprocessing.scale(secom_df)) #scaling and Data Frame\n",
    "\n",
    "target = np.loadtxt('./secom_labels.data', dtype=str)\n",
    "\n",
    "target = pd.DataFrame(target) #Data Frame\n",
    "times = target[2].str.split(':', expand=True)[0]\n",
    "time_df = pd.DataFrame(times)\n",
    "target = target[0].astype(int)\n",
    "time_df['FPY']=target\n",
    "labels_df=target"
   ]
  },
  {
   "cell_type": "markdown",
   "id": "26d06b98",
   "metadata": {},
   "source": [
    "How many observations and features are there?"
   ]
  },
  {
   "cell_type": "code",
   "execution_count": null,
   "id": "f3d0eaed",
   "metadata": {},
   "outputs": [],
   "source": [
    "print('features',secom_df.shape) #590 features, 1567 observations\n",
    "print('time',times.shape)\n",
    "print('labels',labels_df.shape)\n",
    "\n",
    "#sns.histplot(data = labels_df, color= 'grey')\n",
    "labels_df.value_counts()"
   ]
  },
  {
   "cell_type": "markdown",
   "id": "a006ef81",
   "metadata": {},
   "source": [
    "look at the data"
   ]
  },
  {
   "cell_type": "code",
   "execution_count": null,
   "id": "3a0a2258",
   "metadata": {},
   "outputs": [],
   "source": [
    "print(secom_df.info())"
   ]
  },
  {
   "cell_type": "code",
   "execution_count": null,
   "id": "8e169ab8",
   "metadata": {},
   "outputs": [],
   "source": [
    "secom_df.head()"
   ]
  },
  {
   "cell_type": "markdown",
   "id": "3011f466",
   "metadata": {},
   "source": [
    "How do you plan to handle missing values?"
   ]
  },
  {
   "cell_type": "code",
   "execution_count": null,
   "id": "78ee95f1",
   "metadata": {},
   "outputs": [],
   "source": [
    "print(secom_df.isna().any().any()) "
   ]
  },
  {
   "cell_type": "code",
   "execution_count": null,
   "id": "36fa8e3e",
   "metadata": {},
   "outputs": [],
   "source": [
    "#https://www.elektormagazine.de/articles/datenanalyse-und-knstliche-intelligenz-in-python\n",
    "na_cols = [col for col in secom_df.columns if secom_df[col].isnull().sum() / len(secom_df) > 0.4]\n",
    "secom_df = secom_df.drop(na_cols, axis=1)\n",
    "secom_df.shape"
   ]
  },
  {
   "cell_type": "code",
   "execution_count": null,
   "id": "1898b45e",
   "metadata": {},
   "outputs": [],
   "source": [
    "#imputer = SimpleImputer(strategy='mean')\n",
    "imputer = KNNImputer(n_neighbors=8, weights=\"uniform\")\n",
    "secom_imputed = pd.DataFrame(imputer.fit_transform(secom_df))\n",
    "secom_imputed.columns = secom_df.columns\n",
    "secom_df=secom_imputed"
   ]
  },
  {
   "cell_type": "code",
   "execution_count": null,
   "id": "4c50d557",
   "metadata": {},
   "outputs": [],
   "source": [
    "print(secom_df.isna().any().any())"
   ]
  },
  {
   "cell_type": "markdown",
   "id": "af5c0a32",
   "metadata": {},
   "source": [
    "Check for trends and outliers"
   ]
  },
  {
   "cell_type": "code",
   "execution_count": null,
   "id": "ee097c5f",
   "metadata": {},
   "outputs": [],
   "source": [
    "secom_df.describe() #there are outliers\n",
    "#Standartesierung Notwendig"
   ]
  },
  {
   "cell_type": "code",
   "execution_count": null,
   "id": "61004b49",
   "metadata": {},
   "outputs": [],
   "source": [
    "pd.DataFrame(np.array(secom_df)[:,0:20]).hist(figsize=(12, 10), bins=30, edgecolor=\"black\")\n",
    "plt.subplots_adjust(hspace=0.7, wspace=0.4)\n",
    "#es gibt Konstanten #sehe auch in der Beschreibung der Daten"
   ]
  },
  {
   "cell_type": "code",
   "execution_count": null,
   "id": "08a4e297",
   "metadata": {},
   "outputs": [],
   "source": [
    "#Entferne Konstanten\n",
    "secom_df=secom_df.loc[:, (secom_df != secom_df.iloc[0]).any()]\n",
    "secom_df.shape"
   ]
  },
  {
   "cell_type": "markdown",
   "id": "be920c7c",
   "metadata": {},
   "source": [
    "Are there redundant features?"
   ]
  },
  {
   "cell_type": "code",
   "execution_count": null,
   "id": "8a6a31d1",
   "metadata": {},
   "outputs": [],
   "source": [
    "sns.heatmap(secom_df.corr())\n",
    "#es existiert eine Korrelation, also es gibt in den Daten redundante Werte"
   ]
  },
  {
   "cell_type": "code",
   "execution_count": null,
   "id": "b186fc79",
   "metadata": {},
   "outputs": [],
   "source": [
    "#https://www.projectpro.io/recipes/drop-out-highly-correlated-features-in-python#mcetoc_1g0c4fnd4a\n",
    "df= secom_df\n",
    "cor_matrix = df.corr(method=\"spearman\").abs()\n",
    "#print(cor_matrix)\n",
    "upper_tri = cor_matrix.where(np.triu(np.ones(cor_matrix.shape),k=1).astype(bool))\n",
    "upper_tri.set_axis(list(range(0,secom_df.shape[1])), axis=1,inplace=True)\n",
    "#print(upper_tri)\n",
    "to_drop = [column for column in upper_tri.columns if any(upper_tri[column] > 0.99)]\n",
    "secom_df = df.drop(df.columns[to_drop], axis=1) # geht nur ein mal\n",
    "#print(secom_df.head())\n",
    "secom_df.shape #Redundante Werte sind entfernt"
   ]
  },
  {
   "cell_type": "markdown",
   "id": "1ad6ac44",
   "metadata": {},
   "source": [
    "feature importances"
   ]
  },
  {
   "cell_type": "code",
   "execution_count": null,
   "id": "fab1df28",
   "metadata": {},
   "outputs": [],
   "source": [
    "# ANOVA feature selection for numeric input and categorical output\n",
    "k=40\n",
    "# define feature selection ANOVA entspricht Ftest\n",
    "fs = SelectKBest(score_func=f_classif, k=k)\n",
    "# apply feature selection \n",
    "secom_df = pd.DataFrame(fs.fit_transform(secom_df, labels_df))\n",
    "print(secom_df.shape)"
   ]
  },
  {
   "cell_type": "code",
   "execution_count": null,
   "id": "c0ea3ca2",
   "metadata": {},
   "outputs": [],
   "source": [
    "secom_df.keys() #->key falsch gesetzt"
   ]
  },
  {
   "cell_type": "markdown",
   "id": "98f528ab",
   "metadata": {},
   "source": [
    "Aufgabe 2"
   ]
  },
  {
   "cell_type": "markdown",
   "id": "36ddac27",
   "metadata": {},
   "source": [
    "Are there specific times with a higher rate of errors?"
   ]
  },
  {
   "cell_type": "code",
   "execution_count": null,
   "id": "8f236719",
   "metadata": {},
   "outputs": [],
   "source": [
    "target2 = np.loadtxt('./secom_labels.data', dtype=str)\n",
    "target2 = pd.DataFrame(target2) #Data Frame\n",
    "target2.value_counts()\n",
    "times2 = target2[2].str.split(':', expand=True)[0]\n",
    "times2 = pd.DataFrame(times2)\n",
    "target2 = target2[0]\n",
    "times2['FPY']=target2\n",
    "\n",
    "plt.hist(times2[times2['FPY'] == '-1'][0]);"
   ]
  },
  {
   "cell_type": "markdown",
   "id": "dfcae11c",
   "metadata": {},
   "source": [
    "!!!cross validierung, seed!!!"
   ]
  },
  {
   "cell_type": "code",
   "execution_count": null,
   "id": "7b5b50b4",
   "metadata": {},
   "outputs": [],
   "source": [
    "# Split the data into training and testing sets\n",
    "X_train, X_test, y_train, y_test = train_test_split(secom_df, labels_df, test_size = 0.2, random_state = 42)"
   ]
  },
  {
   "cell_type": "code",
   "execution_count": null,
   "id": "dfd24771",
   "metadata": {},
   "outputs": [],
   "source": [
    "print('Training Features Shape:', X_train.shape)\n",
    "print('Training Labels Shape:', y_train.shape)\n",
    "print('Testing Features Shape:', X_test.shape)\n",
    "print('Testing Labels Shape:', y_test.shape)"
   ]
  },
  {
   "cell_type": "markdown",
   "id": "6c585b3b",
   "metadata": {},
   "source": [
    "Develop a prediction model for First Pass Yield (FPY)"
   ]
  },
  {
   "cell_type": "code",
   "execution_count": null,
   "id": "3477358d",
   "metadata": {},
   "outputs": [],
   "source": [
    "lr = LogisticRegression(max_iter=10000,random_state=0)\n",
    "lr1 = lr.fit(X_train, y_train)\n",
    "y_pred_lr= lr1.predict(X_test)\n",
    "\n",
    "\n",
    "lasso = linear_model.Lasso(alpha=0.1, family=\"binomial\")\n",
    "lasso1 = lasso.fit(X_train, y_train)\n",
    "y_pred_lasso= lasso1.predict(X_test)\n",
    "\n",
    "rf = RandomForestClassifier(n_estimators=100)\n",
    "rf1 = rf.fit(X_train,y_train)\n",
    "y_pred_rf = rf1.predict(X_test)\n",
    "\n",
    "knc = KNeighborsClassifier()\n",
    "knc1 = knc.fit(X_train,y_train)\n",
    "y_pred_knc= knc1.predict(X_test)\n",
    "\n",
    "gbm = GradientBoostingClassifier()\n",
    "gbm1 = gbm.fit(X_train,y_train)\n",
    "y_pred_gbm= gbm1.predict(X_test)\n",
    "\n",
    "b = BaggingClassifier()\n",
    "b1 = b.fit(X_train,y_train)\n",
    "y_pred_b= b1.predict(X_test)"
   ]
  },
  {
   "cell_type": "code",
   "execution_count": null,
   "id": "f6bef140",
   "metadata": {},
   "outputs": [],
   "source": [
    "print(\"accuracy score train\")\n",
    "print(\"LogisticRegression: {0}\".format(lr1.score(X_train,y_train)))\n",
    "print(\"LassoRegression: {0}\".format(lasso1.score(X_train,y_train)))\n",
    "print(\"RandomForestClassifier: {0}\".format(rf1.score(X_train,y_train)))\n",
    "print(\"KNeighborsClassifier: {0}\".format(knc1.score(X_train,y_train)))\n",
    "print(\"GradientBoostingClassifier: {0}\".format(gbm1.score(X_train,y_train)))\n",
    "print(\"BaggingClassifier: {0}\".format(b1.score(X_train,y_train)))"
   ]
  },
  {
   "cell_type": "markdown",
   "id": "aef9e79b",
   "metadata": {},
   "source": [
    "Which of the process features are important for the prediction of First Pass\n",
    "Yield (FPY)?"
   ]
  },
  {
   "cell_type": "code",
   "execution_count": null,
   "id": "a6cd0989",
   "metadata": {},
   "outputs": [],
   "source": [
    "# GBM\n",
    "gbm_importance = gbm.feature_importances_\n",
    "gbm_ranked_indices = np.argsort(gbm_importance)[::-1]\n",
    "\n",
    "#Random Forest\n",
    "rf_importance = rf.feature_importances_\n",
    "rf_ranked_indices = np.argsort(rf_importance)[::-1]\n",
    "\n",
    "#Boosting\n",
    "b_importance = np.mean([tree.feature_importances_ for tree in b.estimators_], axis=0)\n",
    "b_ranked_indices = np.argsort(b_importance)[::-1]\n",
    "\n",
    "# printing results in a table\n",
    "importance_results = pd.DataFrame(index=range(1,16), \n",
    "                                  columns=pd.MultiIndex.from_product([['GBM','RF','B'],['Feature #','Importance']]))\n",
    "importance_results.index.name = 'Rank'\n",
    "importance_results.loc[:,'GBM'] =  list(zip(gbm_ranked_indices[:15], \n",
    "                                            gbm_importance[gbm_ranked_indices[:15]]))\n",
    "importance_results.loc[:,'RF'] =  list(zip(rf_ranked_indices[:15], \n",
    "                                           rf_importance[rf_ranked_indices[:15]]))\n",
    "importance_results.loc[:,'B'] =  list(zip(b_ranked_indices[:15], \n",
    "                                           b_importance[b_ranked_indices[:15]]))\n",
    "print(importance_results)\n",
    "\n",
    "#Auswertung fehlt"
   ]
  },
  {
   "cell_type": "markdown",
   "id": "e6c01f80",
   "metadata": {},
   "source": [
    "Assess the accuracy of the prediction"
   ]
  },
  {
   "cell_type": "code",
   "execution_count": null,
   "id": "bf1c91a7",
   "metadata": {},
   "outputs": [],
   "source": [
    "print(\"accuracy score train\")\n",
    "print(\"LogisticRegression: {0}\".format(lr1.score(X_train,y_train)))\n",
    "print(\"LassoRegression: {0}\".format(lasso1.score(X_train,y_train)))\n",
    "print(\"RandomForestClassifier: {0}\".format(rf1.score(X_train,y_train)))\n",
    "print(\"KNeighborsClassifier: {0}\".format(knc1.score(X_train,y_train)))\n",
    "print(\"GradientBoostingClassifier: {0}\".format(gbm1.score(X_train,y_train)))\n",
    "print(\"BaggingClassifier: {0}\".format(b1.score(X_train,y_train)))"
   ]
  },
  {
   "cell_type": "code",
   "execution_count": null,
   "id": "095b85ab",
   "metadata": {},
   "outputs": [],
   "source": [
    "print(\"accuracy score test\")\n",
    "print(\"LogisticRegression: {0}\".format(accuracy_score(y_test,y_pred_lr)))\n",
    "#print(\"LassoRegression: {0}\".format(accuracy_score(y_test,y_pred_lasso)))\n",
    "print(\"RandomForestClassifier: {0}\".format(accuracy_score(y_test,y_pred_rf)))\n",
    "print(\"KNeighborsClassifier: {0}\".format(accuracy_score(y_test,y_pred_knc)))\n",
    "print(\"GradientBoostingClassifier: {0}\".format(accuracy_score(y_test,y_pred_gbm)))\n",
    "print(\"BaggingClassifier: {0}\".format(accuracy_score(y_test,y_pred_b)))"
   ]
  },
  {
   "cell_type": "code",
   "execution_count": null,
   "id": "86886af5",
   "metadata": {},
   "outputs": [],
   "source": []
  },
  {
   "cell_type": "code",
   "execution_count": null,
   "id": "c03076b6",
   "metadata": {},
   "outputs": [],
   "source": []
  }
 ],
 "metadata": {
  "kernelspec": {
   "display_name": "Python 3 (ipykernel)",
   "language": "python",
   "name": "python3"
  },
  "language_info": {
   "codemirror_mode": {
    "name": "ipython",
    "version": 3
   },
   "file_extension": ".py",
   "mimetype": "text/x-python",
   "name": "python",
   "nbconvert_exporter": "python",
   "pygments_lexer": "ipython3",
   "version": "3.9.7"
  }
 },
 "nbformat": 4,
 "nbformat_minor": 5
}
